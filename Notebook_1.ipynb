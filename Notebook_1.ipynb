{
 "cells": [
  {
   "cell_type": "code",
   "execution_count": 1,
   "metadata": {},
   "outputs": [],
   "source": [
    "import pandas as pd\n",
    "from scraping_function import *\n",
    "import os"
   ]
  },
  {
   "cell_type": "code",
   "execution_count": 2,
   "metadata": {},
   "outputs": [
    {
     "name": "stdout",
     "output_type": "stream",
     "text": [
      "Total movies released in 1: 103\n",
      "An error occurred: [Errno 54] Connection reset by peer\n",
      "An error occurred: HTTP Error 504: Gateway Time-out\n",
      "Total movies released in 2: 64\n",
      "An error occurred: HTTP Error 504: Gateway Time-out\n",
      "An error occurred: HTTP Error 504: Gateway Time-out\n",
      "An error occurred: HTTP Error 504: Gateway Time-out\n",
      "An error occurred: HTTP Error 504: Gateway Time-out\n",
      "Total movies released in 3: 62\n",
      "Total movies released in 4: 83\n",
      "Total movies released in 5: 72\n",
      "Total movies released in 6: 88\n",
      "Total movies released in 7: 54\n",
      "Total movies released in 8: 59\n"
     ]
    }
   ],
   "source": [
    "for year in range (2000, 2023):\n",
    "    for month in range (1, 13):\n",
    "        movies_released= get_movies_per_date(year, month)\n",
    "        print(f\"Total movies released in {year}/{month}: {sum(movies_released.values())}\")"
   ]
  },
  {
   "cell_type": "code",
   "execution_count": null,
   "metadata": {},
   "outputs": [],
   "source": [
    "import os\n",
    "\n",
    "def monthly_links(year, month, output_file):\n",
    "    \"\"\"\n",
    "    Combines all the movie links from the individual files for the specified year and month\n",
    "    into a single file named '{year}-{month:02d}_links.txt'. After that, it deletes the\n",
    "    individual files.\n",
    "\n",
    "    Args:\n",
    "        year (int): The year for which to combine the links.\n",
    "        month (int): The month for which to combine the links.\n",
    "\n",
    "    Returns:\n",
    "        None\n",
    "    \"\"\"\n",
    "    month_str = f\"{month:02d}\"\n",
    "\n",
    "    # Combine links into a single file\n",
    "    links = []\n",
    "    for day in range(1, 32):\n",
    "        day_str = f\"{day:02d}\"\n",
    "        file_path = f\"movies/{year}/{month_str}/{year}-{month_str}-{day_str}_links.txt\"\n",
    "        if os.path.exists(file_path):\n",
    "            with open(file_path, 'r') as file:\n",
    "                links.extend(file.read().splitlines())\n",
    "            print(f\"Wrote links from {file_path} to '{output_file}'\")\n",
    "        else:\n",
    "            print(f\"No file found for {year}-{month_str}-{day_str}\")\n",
    "\n",
    "    with open(output_file, 'w') as fo:\n",
    "        fo.write('\\n'.join(links))\n",
    "\n",
    "    # Delete individual files\n",
    "    for day in range(1, 32):\n",
    "        day_str = f\"{day:02d}\"\n",
    "        file_path = f\"movies/{year}/{month_str}/{year}-{month_str}-{day_str}_links.txt\"\n",
    "        if os.path.exists(file_path):\n",
    "            os.remove(file_path)\n",
    "            print(f\"Deleted {file_path}\")\n",
    "\n",
    "    print(\"All individual files deleted.\")"
   ]
  },
  {
   "cell_type": "code",
   "execution_count": null,
   "metadata": {},
   "outputs": [],
   "source": [
    "for day in range(1, 32):\n",
    "    day_str = f\"{day:02d}\"\n",
    "    file_path = f\"movies/2000/01/2000-01-{day_str}_links.txt\"\n",
    "    if os.path.exists(file_path):\n",
    "        with open(file_path, 'r') as file:\n",
    "            links = file.read().splitlines()\n",
    "            for link in links:\n",
    "                with open('movies/2000-01_links.txt', 'a') as fo:\n",
    "                    fo.write(f\"{link}\\n\")\n",
    "    else:\n",
    "        print(f\"No file found for 2000-01-{day_str}\")\n",
    "\n",
    "print('Done writing to 2000-01_links.txt')"
   ]
  },
  {
   "cell_type": "code",
   "execution_count": null,
   "metadata": {},
   "outputs": [],
   "source": [
    "for day in range(1, 32):\n",
    "    day_str = f\"{day:02d}\"\n",
    "    file_path = f\"movies/2000/01/2000-01-{day_str}_links.txt\"\n",
    "    if os.path.exists(file_path):\n",
    "        os.remove(file_path)\n",
    "    else:\n",
    "        continue\n",
    "\n",
    "print(\"Deleted...\")"
   ]
  },
  {
   "cell_type": "code",
   "execution_count": null,
   "metadata": {},
   "outputs": [],
   "source": [
    "movies_released_each_day= get_movies_per_date(2000, 2)"
   ]
  },
  {
   "cell_type": "code",
   "execution_count": null,
   "metadata": {},
   "outputs": [],
   "source": [
    "print(f\"Total movies released in January: {sum(movies_released_each_day.values())}\")"
   ]
  },
  {
   "cell_type": "code",
   "execution_count": null,
   "metadata": {},
   "outputs": [],
   "source": [
    "for day in range(1, 32):\n",
    "    day_str = f\"{day:02d}\"\n",
    "    file_path = f\"movies/2000/02/2000-02-{day_str}_links.txt\"\n",
    "    if os.path.exists(file_path):\n",
    "        with open(file_path, 'r') as file:\n",
    "            links = file.read().splitlines()\n",
    "            for link in links:\n",
    "                with open('2000-02_links.txt', 'a') as fo:\n",
    "                    fo.write(f\"{link}\\n\")\n",
    "    else:\n",
    "        print(f\"No file found for 2000-01-{day_str}\")"
   ]
  },
  {
   "cell_type": "code",
   "execution_count": null,
   "metadata": {},
   "outputs": [],
   "source": [
    "for i in range (1, 13):\n",
    "    month_str = f\"{i:02d}\"\n",
    "    file_path = f\"movies/2000/{month_str}\"\n",
    "    if os.path.exists(file_path):\n",
    "        os.removedirs(file_path)\n",
    "    else:\n",
    "        continue"
   ]
  },
  {
   "cell_type": "code",
   "execution_count": null,
   "metadata": {},
   "outputs": [],
   "source": [
    "from bs4 import BeautifulSoup\n",
    "import urllib"
   ]
  },
  {
   "cell_type": "code",
   "execution_count": null,
   "metadata": {},
   "outputs": [],
   "source": [
    "movie_url = 'https://www.imdb.com/title/tt0228682/'\n",
    "\n",
    "req = urllib.request.Request(movie_url, headers={'User-Agent': 'Mozilla/5.0'})\n",
    "response = urllib.request.urlopen(req)\n",
    "soup = BeautifulSoup(response, 'html.parser')\n",
    "\n",
    "director_meta= soup.find_all('a', class_= \"ipc-metadata-list-item__list-content-item ipc-metadata-list-item__list-content-item--link\")"
   ]
  },
  {
   "cell_type": "code",
   "execution_count": null,
   "metadata": {},
   "outputs": [],
   "source": [
    "director_meta"
   ]
  },
  {
   "cell_type": "code",
   "execution_count": null,
   "metadata": {},
   "outputs": [],
   "source": []
  }
 ],
 "metadata": {
  "kernelspec": {
   "display_name": ".venv",
   "language": "python",
   "name": "python3"
  },
  "language_info": {
   "codemirror_mode": {
    "name": "ipython",
    "version": 3
   },
   "file_extension": ".py",
   "mimetype": "text/x-python",
   "name": "python",
   "nbconvert_exporter": "python",
   "pygments_lexer": "ipython3",
   "version": "3.9.6"
  }
 },
 "nbformat": 4,
 "nbformat_minor": 2
}
