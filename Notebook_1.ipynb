{
 "cells": [
  {
   "cell_type": "code",
   "execution_count": 1,
   "metadata": {},
   "outputs": [],
   "source": [
    "import pandas as pd\n",
    "from scraping_function import *\n",
    "from utils import *\n",
    "import os"
   ]
  },
  {
   "cell_type": "code",
   "execution_count": 2,
   "metadata": {},
   "outputs": [
    {
     "name": "stdout",
     "output_type": "stream",
     "text": [
      "Total movies released in 2000/1: 103\n",
      "Total movies released in 2000/2: 64\n",
      "An error occurred: The read operation timed out\n",
      "Total movies released in 2000/3: 67\n",
      "An error occurred: HTTP Error 504: Gateway Time-out\n",
      "Total movies released in 2000/4: 83\n",
      "An error occurred: HTTP Error 504: Gateway Time-out\n",
      "An error occurred: HTTP Error 504: Gateway Time-out\n",
      "Total movies released in 2000/5: 67\n",
      "An error occurred: HTTP Error 504: Gateway Time-out\n",
      "An error occurred: HTTP Error 504: Gateway Time-out\n",
      "Total movies released in 2000/6: 76\n",
      "An error occurred: HTTP Error 504: Gateway Time-out\n",
      "An error occurred: HTTP Error 504: Gateway Time-out\n",
      "Total movies released in 2000/7: 52\n",
      "Total movies released in 2000/8: 59\n",
      "Total movies released in 2000/9: 112\n",
      "Total movies released in 2000/10: 105\n",
      "Total movies released in 2000/11: 44\n",
      "An error occurred: HTTP Error 504: Gateway Time-out\n",
      "Total movies released in 2000/12: 302\n"
     ]
    }
   ],
   "source": [
    "for month in range (1, 13):\n",
    "    movies_released= get_movies_per_date(2000, month)\n",
    "    print(f\"Total movies released in {2000}/{month}: {sum(movies_released.values())}\")\n",
    "    time.sleep(1) # add a delay to not overwhelm the server"
   ]
  },
  {
   "cell_type": "code",
   "execution_count": 3,
   "metadata": {},
   "outputs": [
    {
     "name": "stdout",
     "output_type": "stream",
     "text": [
      "An error occurred: HTTP Error 504: Gateway Time-out\n",
      "Total movies released in 2000/1: 113\n",
      "An error occurred: HTTP Error 504: Gateway Time-out\n",
      "An error occurred: HTTP Error 504: Gateway Time-out\n",
      "Total movies released in 2000/2: 74\n",
      "Total movies released in 2000/3: 83\n",
      "Total movies released in 2000/4: 81\n",
      "An error occurred: HTTP Error 504: Gateway Time-out\n",
      "Total movies released in 2000/5: 64\n",
      "Total movies released in 2000/6: 88\n",
      "An error occurred: HTTP Error 504: Gateway Time-out\n",
      "Total movies released in 2000/7: 67\n",
      "An error occurred: HTTP Error 504: Gateway Time-out\n",
      "An error occurred: HTTP Error 504: Gateway Time-out\n",
      "An error occurred: HTTP Error 504: Gateway Time-out\n",
      "Total movies released in 2000/8: 83\n",
      "An error occurred: HTTP Error 504: Gateway Time-out\n",
      "Total movies released in 2000/9: 126\n",
      "An error occurred: HTTP Error 504: Gateway Time-out\n",
      "An error occurred: HTTP Error 504: Gateway Time-out\n",
      "Total movies released in 2000/10: 109\n",
      "An error occurred: HTTP Error 504: Gateway Time-out\n",
      "Total movies released in 2000/11: 53\n",
      "An error occurred: HTTP Error 504: Gateway Time-out\n",
      "Total movies released in 2000/12: 236\n"
     ]
    }
   ],
   "source": [
    "for month in range (1, 13):\n",
    "    movies_released= get_movies_per_date(2001, month)\n",
    "    print(f\"Total movies released in {2000}/{month}: {sum(movies_released.values())}\")\n",
    "    time.sleep(1) # add a delay to not overwhelm the server"
   ]
  },
  {
   "cell_type": "code",
   "execution_count": 4,
   "metadata": {},
   "outputs": [
    {
     "name": "stdout",
     "output_type": "stream",
     "text": [
      "An error occurred: HTTP Error 504: Gateway Time-out\n",
      "Total movies released in 2000/1: 106\n",
      "An error occurred: HTTP Error 504: Gateway Time-out\n",
      "Total movies released in 2000/2: 87\n",
      "Total movies released in 2000/3: 91\n",
      "Total movies released in 2000/4: 87\n",
      "Total movies released in 2000/5: 91\n",
      "An error occurred: HTTP Error 504: Gateway Time-out\n",
      "Total movies released in 2000/6: 76\n",
      "Total movies released in 2000/7: 70\n",
      "An error occurred: HTTP Error 504: Gateway Time-out\n",
      "Total movies released in 2000/8: 95\n",
      "An error occurred: HTTP Error 504: Gateway Time-out\n",
      "Total movies released in 2000/9: 124\n",
      "An error occurred: HTTP Error 504: Gateway Time-out\n",
      "Total movies released in 2000/10: 116\n",
      "Total movies released in 2000/11: 58\n",
      "An error occurred: HTTP Error 504: Gateway Time-out\n",
      "Total movies released in 2000/12: 196\n"
     ]
    }
   ],
   "source": [
    "for month in range (1, 13):\n",
    "    movies_released= get_movies_per_date(2002, month)\n",
    "    print(f\"Total movies released in {2000}/{month}: {sum(movies_released.values())}\")\n",
    "    time.sleep(1) # add a delay to not overwhelm the server"
   ]
  },
  {
   "cell_type": "code",
   "execution_count": 5,
   "metadata": {},
   "outputs": [
    {
     "name": "stdout",
     "output_type": "stream",
     "text": [
      "An error occurred: HTTP Error 504: Gateway Time-out\n",
      "Total movies released in 2000/1: 106\n",
      "Total movies released in 2000/2: 59\n",
      "Total movies released in 2000/3: 113\n",
      "An error occurred: HTTP Error 504: Gateway Time-out\n",
      "An error occurred: HTTP Error 504: Gateway Time-out\n",
      "Total movies released in 2000/4: 85\n",
      "An error occurred: HTTP Error 504: Gateway Time-out\n",
      "Total movies released in 2000/5: 128\n",
      "Total movies released in 2000/6: 86\n",
      "An error occurred: HTTP Error 504: Gateway Time-out\n",
      "Total movies released in 2000/7: 53\n",
      "An error occurred: HTTP Error 504: Gateway Time-out\n",
      "Total movies released in 2000/8: 85\n",
      "Total movies released in 2000/9: 134\n",
      "Total movies released in 2000/10: 91\n",
      "Total movies released in 2000/11: 75\n",
      "Total movies released in 2000/12: 183\n"
     ]
    }
   ],
   "source": [
    "for month in range (1, 13):\n",
    "    movies_released= get_movies_per_date(2003, month)\n",
    "    print(f\"Total movies released in {2000}/{month}: {sum(movies_released.values())}\")\n",
    "    time.sleep(1) # add a delay to not overwhelm the server"
   ]
  },
  {
   "cell_type": "code",
   "execution_count": 6,
   "metadata": {},
   "outputs": [],
   "source": [
    "# for month in range (1, 13):\n",
    "#     movies_released= get_movies_per_date(2004, month)\n",
    "#     print(f\"Total movies released in {2000}/{month}: {sum(movies_released.values())}\")\n",
    "#     time.sleep(1) # add a delay to not overwhelm the server"
   ]
  },
  {
   "cell_type": "code",
   "execution_count": 20,
   "metadata": {},
   "outputs": [
    {
     "name": "stdout",
     "output_type": "stream",
     "text": [
      "Wrote links from movies/2000/12/2000-12-01_links.txt to 'data/dec_links.txt'\n",
      "Wrote links from movies/2000/12/2000-12-02_links.txt to 'data/dec_links.txt'\n",
      "Wrote links from movies/2000/12/2000-12-03_links.txt to 'data/dec_links.txt'\n",
      "Wrote links from movies/2000/12/2000-12-04_links.txt to 'data/dec_links.txt'\n",
      "No file found for 2000-12-05\n",
      "Wrote links from movies/2000/12/2000-12-06_links.txt to 'data/dec_links.txt'\n",
      "Wrote links from movies/2000/12/2000-12-07_links.txt to 'data/dec_links.txt'\n",
      "Wrote links from movies/2000/12/2000-12-08_links.txt to 'data/dec_links.txt'\n",
      "No file found for 2000-12-09\n",
      "Wrote links from movies/2000/12/2000-12-10_links.txt to 'data/dec_links.txt'\n",
      "Wrote links from movies/2000/12/2000-12-11_links.txt to 'data/dec_links.txt'\n",
      "Wrote links from movies/2000/12/2000-12-12_links.txt to 'data/dec_links.txt'\n",
      "Wrote links from movies/2000/12/2000-12-13_links.txt to 'data/dec_links.txt'\n",
      "Wrote links from movies/2000/12/2000-12-14_links.txt to 'data/dec_links.txt'\n",
      "Wrote links from movies/2000/12/2000-12-15_links.txt to 'data/dec_links.txt'\n",
      "Wrote links from movies/2000/12/2000-12-16_links.txt to 'data/dec_links.txt'\n",
      "No file found for 2000-12-17\n",
      "Wrote links from movies/2000/12/2000-12-18_links.txt to 'data/dec_links.txt'\n",
      "Wrote links from movies/2000/12/2000-12-19_links.txt to 'data/dec_links.txt'\n",
      "No file found for 2000-12-20\n",
      "Wrote links from movies/2000/12/2000-12-21_links.txt to 'data/dec_links.txt'\n",
      "Wrote links from movies/2000/12/2000-12-22_links.txt to 'data/dec_links.txt'\n",
      "No file found for 2000-12-23\n",
      "No file found for 2000-12-24\n",
      "Wrote links from movies/2000/12/2000-12-25_links.txt to 'data/dec_links.txt'\n",
      "Wrote links from movies/2000/12/2000-12-26_links.txt to 'data/dec_links.txt'\n",
      "No file found for 2000-12-27\n",
      "No file found for 2000-12-28\n",
      "No file found for 2000-12-29\n",
      "No file found for 2000-12-30\n",
      "Wrote links from movies/2000/12/2000-12-31_links.txt to 'data/dec_links.txt'\n"
     ]
    }
   ],
   "source": [
    "output_file= 'data/dec_links.txt'\n",
    "year=2000\n",
    "month=12\n",
    "\n",
    "month_str = f\"{month:02d}\"\n",
    "\n",
    "# Combine links into a single file\n",
    "links = []\n",
    "for day in range(1, 32):\n",
    "    day_str = f\"{day:02d}\"\n",
    "    file_path = f\"movies/{year}/{month_str}/{year}-{month_str}-{day_str}_links.txt\"\n",
    "    if os.path.exists(file_path):\n",
    "        with open(file_path, 'r') as file:\n",
    "            links.extend(file.read().splitlines())\n",
    "        print(f\"Wrote links from {file_path} to '{output_file}'\")\n",
    "    else:\n",
    "        print(f\"No file found for {year}-{month_str}-{day_str}\")\n",
    "\n",
    "with open(output_file, 'w') as fo:\n",
    "    fo.write('\\n'.join(links))"
   ]
  },
  {
   "cell_type": "code",
   "execution_count": 76,
   "metadata": {},
   "outputs": [],
   "source": [
    "import time\n",
    "with open('data/jan_links.txt', 'r') as file:\n",
    "    links= file.read().splitlines()\n",
    "\n",
    "movie_details=[]\n",
    "for link in links:\n",
    "    movie_details.append(get_movie_details(link))\n",
    "    time.sleep(1)"
   ]
  },
  {
   "cell_type": "code",
   "execution_count": 77,
   "metadata": {},
   "outputs": [
    {
     "data": {
      "text/plain": [
       "{'Title': 'Escape to Grizzly Mountain',\n",
       " 'Year': 2000,\n",
       " 'Rating': 5.8,\n",
       " 'Genre': 'Drama, Family, Sci-Fi',\n",
       " 'Runtime': 95,\n",
       " 'Director': 'Anthony Dalesandro',\n",
       " 'Cast': 'Dan Haggerty, Jan-Michael Vincent, Miko Hughes, Cody McMains',\n",
       " 'Description': 'Jimmy, a young boy trying to gain acceptance from his peers, is horrified when he sees a circus trainer abusing a bear cub One of the circus employees tells Jimmy that there is a magic cave in the hills nearby that can transport people to another time, and that maybe he can use it to help the bear Jimmy does some exploring, finds the cave, and is amazed to find himself transported back to the early 1800\\'s where he encounters Jeremiah, a nature-loving mountain man with a bear friend of his own Jeremiah agrees to come to the future and help out Jimmy, but the 21st century is quite different from the 19th, and springing the bear cub will not be as easy as Jeremiah thinks Not in any way related to the \"Grizzly Adams\" television series.',\n",
       " 'Certificate': ' G',\n",
       " 'URL': 'https://www.imdb.com/title/tt0198460/'}"
      ]
     },
     "execution_count": 77,
     "metadata": {},
     "output_type": "execute_result"
    }
   ],
   "source": [
    "movie_details[0]"
   ]
  },
  {
   "cell_type": "code",
   "execution_count": 79,
   "metadata": {},
   "outputs": [],
   "source": [
    "df = pd.DataFrame([movie_details[0]])\n",
    "\n",
    "for i in range(1, len(movie_details)):\n",
    "    counter= pd.DataFrame([movie_details[i]])\n",
    "    df= pd.concat([df, counter])"
   ]
  },
  {
   "cell_type": "code",
   "execution_count": 80,
   "metadata": {},
   "outputs": [],
   "source": [
    "df.drop(df.columns[-1], axis=1, inplace=True)"
   ]
  },
  {
   "cell_type": "code",
   "execution_count": 82,
   "metadata": {},
   "outputs": [
    {
     "name": "stdout",
     "output_type": "stream",
     "text": [
      "<class 'pandas.core.frame.DataFrame'>\n",
      "Index: 103 entries, 0 to 0\n",
      "Data columns (total 10 columns):\n",
      " #   Column       Non-Null Count  Dtype  \n",
      "---  ------       --------------  -----  \n",
      " 0   Title        96 non-null     object \n",
      " 1   Year         96 non-null     float64\n",
      " 2   Rating       96 non-null     float64\n",
      " 3   Genre        96 non-null     object \n",
      " 4   Runtime      96 non-null     float64\n",
      " 5   Director     95 non-null     object \n",
      " 6   Cast         96 non-null     object \n",
      " 7   Description  96 non-null     object \n",
      " 8   Certificate  74 non-null     object \n",
      " 9   URL          96 non-null     object \n",
      "dtypes: float64(3), object(7)\n",
      "memory usage: 8.9+ KB\n"
     ]
    }
   ],
   "source": [
    "df.info()"
   ]
  },
  {
   "cell_type": "code",
   "execution_count": null,
   "metadata": {},
   "outputs": [],
   "source": []
  }
 ],
 "metadata": {
  "kernelspec": {
   "display_name": ".venv",
   "language": "python",
   "name": "python3"
  },
  "language_info": {
   "codemirror_mode": {
    "name": "ipython",
    "version": 3
   },
   "file_extension": ".py",
   "mimetype": "text/x-python",
   "name": "python",
   "nbconvert_exporter": "python",
   "pygments_lexer": "ipython3",
   "version": "3.9.6"
  }
 },
 "nbformat": 4,
 "nbformat_minor": 2
}
