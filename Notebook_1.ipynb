{
 "cells": [
  {
   "cell_type": "code",
   "execution_count": 8,
   "metadata": {},
   "outputs": [],
   "source": [
    "from scraping_function import *"
   ]
  },
  {
   "cell_type": "code",
   "execution_count": 7,
   "metadata": {},
   "outputs": [
    {
     "name": "stdout",
     "output_type": "stream",
     "text": [
      "An error occurred: HTTP Error 504: Gateway Time-out\n",
      "An error occurred: [Errno 54] Connection reset by peer\n",
      "Total movies released on each date:\n",
      "2000-01-01: 25\n",
      "2000-01-02: 1\n",
      "2000-01-03: 1\n",
      "2000-01-04: 1\n",
      "2000-01-05: 3\n",
      "2000-01-06: 1\n",
      "2000-01-07: 4\n",
      "2000-01-08: 3\n",
      "2000-01-09: 0\n",
      "2000-01-10: 6\n",
      "2000-01-11: 2\n",
      "2000-01-12: 0\n",
      "2000-01-13: 1\n",
      "2000-01-14: 4\n",
      "2000-01-15: 3\n",
      "2000-01-16: 1\n",
      "2000-01-17: 0\n",
      "2000-01-18: 1\n",
      "2000-01-19: 2\n",
      "2000-01-20: 4\n",
      "2000-01-21: 21\n",
      "2000-01-22: 10\n",
      "2000-01-23: 3\n",
      "2000-01-24: 8\n",
      "2000-01-25: 11\n",
      "2000-01-26: 6\n",
      "2000-01-27: 2\n",
      "2000-01-28: 8\n",
      "2000-01-29: 4\n",
      "2000-01-30: 1\n",
      "2000-01-31: 21\n"
     ]
    }
   ],
   "source": [
    "movies_per_date = get_movies_per_date(2000, 1)\n",
    "print(\"Total movies released on each date:\")\n",
    "for date, total_links in movies_per_date.items():\n",
    "    print(f\"{date}: {total_links}\")"
   ]
  },
  {
   "cell_type": "code",
   "execution_count": 19,
   "metadata": {},
   "outputs": [
    {
     "ename": "ValueError",
     "evalue": "too many values to unpack (expected 2)",
     "output_type": "error",
     "traceback": [
      "\u001b[0;31m---------------------------------------------------------------------------\u001b[0m",
      "\u001b[0;31mValueError\u001b[0m                                Traceback (most recent call last)",
      "Cell \u001b[0;32mIn[19], line 13\u001b[0m\n\u001b[1;32m     11\u001b[0m \u001b[38;5;28;01mfor\u001b[39;00m url \u001b[38;5;129;01min\u001b[39;00m urls:\n\u001b[1;32m     12\u001b[0m     url \u001b[38;5;241m=\u001b[39m url\u001b[38;5;241m.\u001b[39mstrip()  \u001b[38;5;66;03m# Remove newline character\u001b[39;00m\n\u001b[0;32m---> 13\u001b[0m     movie_details \u001b[38;5;241m=\u001b[39m \u001b[43mget_movie_details\u001b[49m\u001b[43m(\u001b[49m\u001b[43murl\u001b[49m\u001b[43m)\u001b[49m\n\u001b[1;32m     14\u001b[0m     all_movie_details\u001b[38;5;241m.\u001b[39mappend(movie_details)\n",
      "Cell \u001b[0;32mIn[14], line 20\u001b[0m, in \u001b[0;36mget_movie_details\u001b[0;34m(movie_url)\u001b[0m\n\u001b[1;32m     18\u001b[0m content \u001b[38;5;241m=\u001b[39m meta_tag\u001b[38;5;241m.\u001b[39mget(\u001b[38;5;124m'\u001b[39m\u001b[38;5;124mcontent\u001b[39m\u001b[38;5;124m'\u001b[39m)\n\u001b[1;32m     19\u001b[0m title_year, rating_genre \u001b[38;5;241m=\u001b[39m content\u001b[38;5;241m.\u001b[39msplit(\u001b[38;5;124m'\u001b[39m\u001b[38;5;124m⭐\u001b[39m\u001b[38;5;124m'\u001b[39m)\n\u001b[0;32m---> 20\u001b[0m title, year \u001b[38;5;241m=\u001b[39m title_year\u001b[38;5;241m.\u001b[39msplit(\u001b[38;5;124m'\u001b[39m\u001b[38;5;124m(\u001b[39m\u001b[38;5;124m'\u001b[39m)\n\u001b[1;32m     21\u001b[0m rating \u001b[38;5;241m=\u001b[39m \u001b[38;5;28mfloat\u001b[39m(rating_genre\u001b[38;5;241m.\u001b[39msplit(\u001b[38;5;124m'\u001b[39m\u001b[38;5;124m|\u001b[39m\u001b[38;5;124m'\u001b[39m)[\u001b[38;5;241m0\u001b[39m]\u001b[38;5;241m.\u001b[39mstrip())\n\u001b[1;32m     22\u001b[0m genre \u001b[38;5;241m=\u001b[39m rating_genre\u001b[38;5;241m.\u001b[39msplit(\u001b[38;5;124m'\u001b[39m\u001b[38;5;124m|\u001b[39m\u001b[38;5;124m'\u001b[39m)[\u001b[38;5;241m1\u001b[39m]\u001b[38;5;241m.\u001b[39mstrip()\n",
      "\u001b[0;31mValueError\u001b[0m: too many values to unpack (expected 2)"
     ]
    }
   ],
   "source": [
    "all_movie_details = []\n",
    "\n",
    "for i in range(1, 31):\n",
    "    if i < 10:\n",
    "        i = '0' + str(i)\n",
    "    else:\n",
    "        i = str(i)\n",
    "    file_path = f'movies/2000/01/2000-01-{i}_links.txt'\n",
    "    with open(file_path, 'r') as f:\n",
    "        urls = f.readlines()\n",
    "        for url in urls:\n",
    "            url = url.strip()  # Remove newline character\n",
    "            movie_details = get_movie_details(url)\n",
    "            all_movie_details.append(movie_details)\n"
   ]
  },
  {
   "cell_type": "code",
   "execution_count": 20,
   "metadata": {},
   "outputs": [
    {
     "ename": "ValueError",
     "evalue": "too many values to unpack (expected 2)",
     "output_type": "error",
     "traceback": [
      "\u001b[0;31m---------------------------------------------------------------------------\u001b[0m",
      "\u001b[0;31mValueError\u001b[0m                                Traceback (most recent call last)",
      "Cell \u001b[0;32mIn[20], line 6\u001b[0m\n\u001b[1;32m      3\u001b[0m \u001b[38;5;28;01mfor\u001b[39;00m url \u001b[38;5;129;01min\u001b[39;00m urls:\n\u001b[1;32m      5\u001b[0m         url \u001b[38;5;241m=\u001b[39m url\u001b[38;5;241m.\u001b[39mstrip()  \u001b[38;5;66;03m# Remove newline character\u001b[39;00m\n\u001b[0;32m----> 6\u001b[0m         movie_details \u001b[38;5;241m=\u001b[39m \u001b[43mget_movie_details\u001b[49m\u001b[43m(\u001b[49m\u001b[43murl\u001b[49m\u001b[43m)\u001b[49m\n\u001b[1;32m      7\u001b[0m         all_movie_details\u001b[38;5;241m.\u001b[39mappend(movie_details)\n",
      "Cell \u001b[0;32mIn[14], line 20\u001b[0m, in \u001b[0;36mget_movie_details\u001b[0;34m(movie_url)\u001b[0m\n\u001b[1;32m     18\u001b[0m content \u001b[38;5;241m=\u001b[39m meta_tag\u001b[38;5;241m.\u001b[39mget(\u001b[38;5;124m'\u001b[39m\u001b[38;5;124mcontent\u001b[39m\u001b[38;5;124m'\u001b[39m)\n\u001b[1;32m     19\u001b[0m title_year, rating_genre \u001b[38;5;241m=\u001b[39m content\u001b[38;5;241m.\u001b[39msplit(\u001b[38;5;124m'\u001b[39m\u001b[38;5;124m⭐\u001b[39m\u001b[38;5;124m'\u001b[39m)\n\u001b[0;32m---> 20\u001b[0m title, year \u001b[38;5;241m=\u001b[39m title_year\u001b[38;5;241m.\u001b[39msplit(\u001b[38;5;124m'\u001b[39m\u001b[38;5;124m(\u001b[39m\u001b[38;5;124m'\u001b[39m)\n\u001b[1;32m     21\u001b[0m rating \u001b[38;5;241m=\u001b[39m \u001b[38;5;28mfloat\u001b[39m(rating_genre\u001b[38;5;241m.\u001b[39msplit(\u001b[38;5;124m'\u001b[39m\u001b[38;5;124m|\u001b[39m\u001b[38;5;124m'\u001b[39m)[\u001b[38;5;241m0\u001b[39m]\u001b[38;5;241m.\u001b[39mstrip())\n\u001b[1;32m     22\u001b[0m genre \u001b[38;5;241m=\u001b[39m rating_genre\u001b[38;5;241m.\u001b[39msplit(\u001b[38;5;124m'\u001b[39m\u001b[38;5;124m|\u001b[39m\u001b[38;5;124m'\u001b[39m)[\u001b[38;5;241m1\u001b[39m]\u001b[38;5;241m.\u001b[39mstrip()\n",
      "\u001b[0;31mValueError\u001b[0m: too many values to unpack (expected 2)"
     ]
    }
   ],
   "source": [
    "with open('movies/2000/01/2000-01-01_links.txt', 'r') as f:\n",
    "    urls= f.readlines()\n",
    "    for url in urls:\n",
    "\n",
    "            url = url.strip()  # Remove newline character\n",
    "            movie_details = get_movie_details(url)\n",
    "            all_movie_details.append(movie_details)"
   ]
  },
  {
   "cell_type": "code",
   "execution_count": 21,
   "metadata": {},
   "outputs": [
    {
     "data": {
      "text/plain": [
       "{'Title': 'Escape to Grizzly Mountain ',\n",
       " 'Year': 2000,\n",
       " 'Rating': 5.8,\n",
       " 'Genre': 'Drama, Family, Sci-Fi',\n",
       " 'Runtime': 95,\n",
       " 'Director': 'Anthony Dalesandro',\n",
       " 'Cast': 'Dan Haggerty, Jan-Michael Vincent, Miko Hughes, Cody McMains',\n",
       " 'Description': 'Jimmy, a young boy trying to gain acceptance from his peers, is horrified when he sees a circus trainer abusing a bear cub One of the circus employees tells Jimmy that there is a magic cave in the hills nearby that can transport people to another time, and that maybe he can use it to help the bear Jimmy does some exploring, finds the cave, and is amazed to find himself transported back to the early 1800\\'s where he encounters Jeremiah, a nature-loving mountain man with a bear friend of his own Jeremiah agrees to come to the future and help out Jimmy, but the 21st century is quite different from the 19th, and springing the bear cub will not be as easy as Jeremiah thinks Not in any way related to the \"Grizzly Adams\" television series.',\n",
       " 'Certificate': ' G',\n",
       " 'URL': 'https://www.imdb.com/title/tt0198460/'}"
      ]
     },
     "execution_count": 21,
     "metadata": {},
     "output_type": "execute_result"
    }
   ],
   "source": [
    "get_movie_details('https://www.imdb.com/title/tt0198460/')"
   ]
  },
  {
   "cell_type": "code",
   "execution_count": null,
   "metadata": {},
   "outputs": [],
   "source": []
  }
 ],
 "metadata": {
  "kernelspec": {
   "display_name": ".venv",
   "language": "python",
   "name": "python3"
  },
  "language_info": {
   "codemirror_mode": {
    "name": "ipython",
    "version": 3
   },
   "file_extension": ".py",
   "mimetype": "text/x-python",
   "name": "python",
   "nbconvert_exporter": "python",
   "pygments_lexer": "ipython3",
   "version": "3.9.6"
  }
 },
 "nbformat": 4,
 "nbformat_minor": 2
}
