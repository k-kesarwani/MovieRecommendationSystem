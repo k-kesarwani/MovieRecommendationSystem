{
 "cells": [
  {
   "cell_type": "code",
   "execution_count": 2,
   "metadata": {},
   "outputs": [
    {
     "name": "stdout",
     "output_type": "stream",
     "text": [
      "1195 movie links found\n"
     ]
    }
   ],
   "source": [
    "import os\n",
    "\n",
    "start_year = 2000\n",
    "end_year = 2000\n",
    "counter = 0\n",
    "\n",
    "for year in range(start_year, end_year + 1):\n",
    "    for month in range(1, 13):  # Corrected month iteration\n",
    "        month_str = f\"{month:02d}\"\n",
    "        for day in range(1, 32):\n",
    "            day_str = f\"{day:02d}\"\n",
    "            date_str = f\"{year}-{month_str}-{day_str}\"\n",
    "            file_path = f'../movie_links/{year}/{month_str}/{date_str}.txt'\n",
    "            \n",
    "            if os.path.exists(file_path):\n",
    "                with open(file_path, 'r') as file:\n",
    "                    urls = file.read().splitlines()\n",
    "                    counter += len(urls)\n",
    "\n",
    "print(f\"{counter} movie links found\")\n"
   ]
  },
  {
   "cell_type": "code",
   "execution_count": null,
   "metadata": {},
   "outputs": [],
   "source": []
  }
 ],
 "metadata": {
  "kernelspec": {
   "display_name": ".venv",
   "language": "python",
   "name": "python3"
  },
  "language_info": {
   "codemirror_mode": {
    "name": "ipython",
    "version": 3
   },
   "file_extension": ".py",
   "mimetype": "text/x-python",
   "name": "python",
   "nbconvert_exporter": "python",
   "pygments_lexer": "ipython3",
   "version": "3.9.6"
  }
 },
 "nbformat": 4,
 "nbformat_minor": 2
}
