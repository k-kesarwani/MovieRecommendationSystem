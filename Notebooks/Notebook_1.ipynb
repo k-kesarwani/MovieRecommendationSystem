{
 "cells": [
  {
   "cell_type": "code",
   "execution_count": null,
   "metadata": {},
   "outputs": [],
   "source": [
    "import os\n",
    "import urllib\n",
    "from bs4 import BeautifulSoup\n",
    "import pickle\n",
    "\n",
    "def fetch_page(url, cache_dir=\"cache\"):\n",
    "    \"\"\"Fetches the content of a web page, using caching for efficiency.\n",
    "\n",
    "    This function retrieves the HTML content of a given URL. It first checks\n",
    "    if the content is already cached in a local file. If it is, the cached\n",
    "    content is loaded and returned. Otherwise, the function fetches the content\n",
    "    from the web using a user-agent header and stores it in the cache directory\n",
    "    before returning it.\n",
    "\n",
    "    Args:\n",
    "        url (str): The URL of the web page to fetch.\n",
    "        cache_dir (str, optional): The directory to store cached web pages.\n",
    "            Defaults to \"cache\".\n",
    "\n",
    "    Returns:\n",
    "        BeautifulSoup: The parsed HTML content of the web page.\n",
    "    \"\"\"\n",
    "\n",
    "    cache_file = os.path.join(cache_dir, f\"{url.replace('/', '_')}.pkl\")\n",
    "    if os.path.exists(cache_file):\n",
    "        with open(cache_file, 'rb') as f:\n",
    "            return pickle.load(f)\n",
    "    else:\n",
    "        req = urllib.request.Request(url, headers={'User-Agent': 'Mozilla/5.0'})\n",
    "        with urllib.request.urlopen(req, timeout=300) as response:\n",
    "            soup = BeautifulSoup(response, 'lxml')  # Using lxml parser\n",
    "            os.makedirs(cache_dir, exist_ok=True)\n",
    "            with open(cache_file, 'wb') as f:\n",
    "                pickle.dump(soup, f)\n",
    "            return soup"
   ]
  },
  {
   "cell_type": "code",
   "execution_count": null,
   "metadata": {},
   "outputs": [],
   "source": [
    "import os\n",
    "import calendar\n",
    "import concurrent.futures\n",
    "\n",
    "def get_movies_per_date(year, month, cache_dir=\"tmp/cache\"):\n",
    "    \"\"\"\n",
    "    Get the number of movies released for each date in the specified month, and save the links in the specified format.\n",
    "\n",
    "    Args:\n",
    "    - year (int): The year for which to get the movies.\n",
    "    - month (int): The month for which to get the movies.\n",
    "\n",
    "    Returns:\n",
    "    - movies_per_date (dict): A dictionary containing the number of movies released for each date in the month.\n",
    "    \"\"\"\n",
    "    movies_per_date = {}\n",
    "    num_days = calendar.monthrange(year, month)[1]\n",
    "    month_dir = os.path.join(\"movie_links\", str(year), str(month).zfill(2))\n",
    "    os.makedirs(month_dir, exist_ok=True)\n",
    "\n",
    "    def write_url_to_file(file_name, url):\n",
    "        with open(file_name, 'a') as f:\n",
    "            f.write(url + '\\n')\n",
    "\n",
    "    for day in range(1, num_days + 1):\n",
    "        date = f\"{year}-{month:02d}-{day:02d}\"\n",
    "        base_url = f\"https://www.imdb.com/search/title/?title_type=feature&release_date={date},{date}&user_rating=1,10&genres=!documentary,!short&primary_language=en&adult=include\"\n",
    "        file_name = os.path.join(month_dir, f\"{date}.txt\")\n",
    "        try:\n",
    "            soup = fetch_page(base_url, cache_dir)\n",
    "            a_tags = soup.find_all('a', class_='ipc-title-link-wrapper')\n",
    "            total_links = len(a_tags)\n",
    "            movies_per_date[date] = total_links\n",
    "            if total_links != 0:\n",
    "                with concurrent.futures.ThreadPoolExecutor() as executor:\n",
    "                    for a_tag in a_tags:\n",
    "                        href_value = a_tag.get('href')\n",
    "                        movie_id = href_value.split('/')[2]\n",
    "                        movie_url = f'https://www.imdb.com/title/{movie_id}/'\n",
    "                        executor.submit(write_url_to_file, file_name, movie_url)\n",
    "                        \n",
    "        except Exception as e:\n",
    "            print(f\"An error occurred: {e}\")\n",
    "            movies_per_date[date] = 0\n",
    "\n",
    "    return movies_per_date\n"
   ]
  },
  {
   "cell_type": "code",
   "execution_count": null,
   "metadata": {},
   "outputs": [],
   "source": [
    "import time\n",
    "month_dict = {1: 'Jan', 2: 'Feb', 3: 'Mar', 4: 'Apr', 5: 'May', 6: 'Jun', 7: 'Jul', 8: 'Aug', 9: 'Sep', 10: 'Oct', 11: 'Nov', 12: 'Dec'}\n",
    "\n",
    "start_year = 1990\n",
    "end_year = 2000\n",
    "DIR = f'tmp'\n",
    "os.makedirs(DIR, exist_ok=True)\n",
    "\n",
    "start_time = time.time()\n",
    "\n",
    "for year in range(start_year, end_year + 1):\n",
    "    for month in month_dict:\n",
    "        month_str = f\"{month:02d}\"\n",
    "        movies_released = get_movies_per_date(year, month)\n",
    "        with open(f'{DIR}/movies_released_{year}.txt', 'a') as f:\n",
    "            f.write(f'{month_dict[month]}: {sum(movies_released.values())}\\n')\n",
    "\n",
    "end_time = time.time()\n",
    "runtime = end_time - start_time\n",
    "print(f\"Runtime: {runtime:.2f} seconds\")"
   ]
  },
  {
   "cell_type": "code",
   "execution_count": null,
   "metadata": {},
   "outputs": [],
   "source": [
    "movie_details['Genre'].head()"
   ]
  },
  {
   "cell_type": "code",
   "execution_count": null,
   "metadata": {},
   "outputs": [],
   "source": [
    "genres=[]\n",
    "for i in range(len(movie_details)):\n",
    "    genres.append(movie_details['Genre'][i].split(', '))"
   ]
  },
  {
   "cell_type": "code",
   "execution_count": null,
   "metadata": {},
   "outputs": [],
   "source": [
    "unique_genres= []\n",
    "for i in range (len(genres)):\n",
    "    for j in range(len(genres[i])):\n",
    "        if genres[i][j] not in unique_genres:\n",
    "            unique_genres.append(genres[i][j])\n"
   ]
  },
  {
   "cell_type": "code",
   "execution_count": null,
   "metadata": {},
   "outputs": [],
   "source": [
    "unique_genres= list(set(unique_genres))"
   ]
  },
  {
   "cell_type": "code",
   "execution_count": null,
   "metadata": {},
   "outputs": [],
   "source": [
    "movie_details['Genre'] = movie_details['Genre'].apply(lambda x: x.split(', '))\n",
    "mlb = MultiLabelBinarizer()\n",
    "\n",
    "genre_encoded = pd.DataFrame(mlb.fit_transform(movie_details['Genre']), columns=mlb.classes_)\n",
    "movie_details_encoded = pd.concat([movie_details, genre_encoded], axis=1)\n",
    "\n",
    "# Drop the original 'Genre' column\n",
    "movie_details_encoded.drop(columns=['Genre'], inplace=True)\n",
    "\n",
    "movie_details_encoded"
   ]
  },
  {
   "cell_type": "code",
   "execution_count": null,
   "metadata": {},
   "outputs": [],
   "source": [
    "# Flatten the list of encoded genres into a single list\n",
    "encoded_genres_flat = [genre for sublist in movie_details['Encoded_Genre'] for genre in sublist]\n",
    "\n",
    "genre_counts = pd.Series(encoded_genres_flat).value_counts()\n",
    "\n",
    "genre_labels = encoder.inverse_transform(genre_counts.index)\n",
    "\n",
    "plt.figure(figsize=(10, 6))\n",
    "genre_counts.plot(kind='bar', color='skyblue')\n",
    "plt.title('Frequency of Different Genres')\n",
    "plt.xlabel('Genre')\n",
    "plt.ylabel('Frequency')\n",
    "plt.xticks(range(len(genre_labels)), genre_labels, rotation=45, ha='right')  # Set genre labels as x-axis ticks\n",
    "plt.tight_layout()\n",
    "plt.show()\n"
   ]
  },
  {
   "cell_type": "code",
   "execution_count": null,
   "metadata": {},
   "outputs": [],
   "source": []
  },
  {
   "cell_type": "code",
   "execution_count": null,
   "metadata": {},
   "outputs": [],
   "source": []
  }
 ],
 "metadata": {
  "kernelspec": {
   "display_name": ".venv",
   "language": "python",
   "name": "python3"
  },
  "language_info": {
   "codemirror_mode": {
    "name": "ipython",
    "version": 3
   },
   "file_extension": ".py",
   "mimetype": "text/x-python",
   "name": "python",
   "nbconvert_exporter": "python",
   "pygments_lexer": "ipython3",
   "version": "3.9.6"
  }
 },
 "nbformat": 4,
 "nbformat_minor": 2
}
